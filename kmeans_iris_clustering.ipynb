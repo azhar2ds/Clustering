{
 "cells": [
  {
   "cell_type": "code",
   "execution_count": 2,
   "metadata": {},
   "outputs": [],
   "source": [
    "#Import libraries\n",
    "import numpy as np\n",
    "import pandas as pd\n",
    "import matplotlib.pyplot as plt\n",
    "from sklearn.cluster import KMeans"
   ]
  },
  {
   "cell_type": "code",
   "execution_count": 3,
   "metadata": {},
   "outputs": [
    {
     "data": {
      "text/html": [
       "<div>\n",
       "<style scoped>\n",
       "    .dataframe tbody tr th:only-of-type {\n",
       "        vertical-align: middle;\n",
       "    }\n",
       "\n",
       "    .dataframe tbody tr th {\n",
       "        vertical-align: top;\n",
       "    }\n",
       "\n",
       "    .dataframe thead th {\n",
       "        text-align: right;\n",
       "    }\n",
       "</style>\n",
       "<table border=\"1\" class=\"dataframe\">\n",
       "  <thead>\n",
       "    <tr style=\"text-align: right;\">\n",
       "      <th></th>\n",
       "      <th>Id</th>\n",
       "      <th>sepal_length</th>\n",
       "      <th>sepal_width</th>\n",
       "      <th>petal_length</th>\n",
       "      <th>petal_width</th>\n",
       "      <th>species</th>\n",
       "    </tr>\n",
       "  </thead>\n",
       "  <tbody>\n",
       "    <tr>\n",
       "      <td>0</td>\n",
       "      <td>1</td>\n",
       "      <td>5.1</td>\n",
       "      <td>3.5</td>\n",
       "      <td>1.4</td>\n",
       "      <td>0.2</td>\n",
       "      <td>Iris-setosa</td>\n",
       "    </tr>\n",
       "    <tr>\n",
       "      <td>1</td>\n",
       "      <td>2</td>\n",
       "      <td>4.9</td>\n",
       "      <td>3.0</td>\n",
       "      <td>1.4</td>\n",
       "      <td>0.2</td>\n",
       "      <td>Iris-setosa</td>\n",
       "    </tr>\n",
       "    <tr>\n",
       "      <td>2</td>\n",
       "      <td>3</td>\n",
       "      <td>4.7</td>\n",
       "      <td>3.2</td>\n",
       "      <td>1.3</td>\n",
       "      <td>0.2</td>\n",
       "      <td>Iris-setosa</td>\n",
       "    </tr>\n",
       "    <tr>\n",
       "      <td>3</td>\n",
       "      <td>4</td>\n",
       "      <td>4.6</td>\n",
       "      <td>3.1</td>\n",
       "      <td>1.5</td>\n",
       "      <td>0.2</td>\n",
       "      <td>Iris-setosa</td>\n",
       "    </tr>\n",
       "    <tr>\n",
       "      <td>4</td>\n",
       "      <td>5</td>\n",
       "      <td>5.0</td>\n",
       "      <td>3.6</td>\n",
       "      <td>1.4</td>\n",
       "      <td>0.2</td>\n",
       "      <td>Iris-setosa</td>\n",
       "    </tr>\n",
       "    <tr>\n",
       "      <td>5</td>\n",
       "      <td>6</td>\n",
       "      <td>5.4</td>\n",
       "      <td>3.9</td>\n",
       "      <td>1.7</td>\n",
       "      <td>0.4</td>\n",
       "      <td>Iris-setosa</td>\n",
       "    </tr>\n",
       "    <tr>\n",
       "      <td>6</td>\n",
       "      <td>7</td>\n",
       "      <td>4.6</td>\n",
       "      <td>3.4</td>\n",
       "      <td>1.4</td>\n",
       "      <td>0.3</td>\n",
       "      <td>Iris-setosa</td>\n",
       "    </tr>\n",
       "    <tr>\n",
       "      <td>7</td>\n",
       "      <td>8</td>\n",
       "      <td>5.0</td>\n",
       "      <td>3.4</td>\n",
       "      <td>1.5</td>\n",
       "      <td>0.2</td>\n",
       "      <td>Iris-setosa</td>\n",
       "    </tr>\n",
       "    <tr>\n",
       "      <td>8</td>\n",
       "      <td>9</td>\n",
       "      <td>4.4</td>\n",
       "      <td>2.9</td>\n",
       "      <td>1.4</td>\n",
       "      <td>0.2</td>\n",
       "      <td>Iris-setosa</td>\n",
       "    </tr>\n",
       "    <tr>\n",
       "      <td>9</td>\n",
       "      <td>10</td>\n",
       "      <td>4.9</td>\n",
       "      <td>3.1</td>\n",
       "      <td>1.5</td>\n",
       "      <td>0.1</td>\n",
       "      <td>Iris-setosa</td>\n",
       "    </tr>\n",
       "  </tbody>\n",
       "</table>\n",
       "</div>"
      ],
      "text/plain": [
       "   Id  sepal_length  sepal_width  petal_length  petal_width      species\n",
       "0   1           5.1          3.5           1.4          0.2  Iris-setosa\n",
       "1   2           4.9          3.0           1.4          0.2  Iris-setosa\n",
       "2   3           4.7          3.2           1.3          0.2  Iris-setosa\n",
       "3   4           4.6          3.1           1.5          0.2  Iris-setosa\n",
       "4   5           5.0          3.6           1.4          0.2  Iris-setosa\n",
       "5   6           5.4          3.9           1.7          0.4  Iris-setosa\n",
       "6   7           4.6          3.4           1.4          0.3  Iris-setosa\n",
       "7   8           5.0          3.4           1.5          0.2  Iris-setosa\n",
       "8   9           4.4          2.9           1.4          0.2  Iris-setosa\n",
       "9  10           4.9          3.1           1.5          0.1  Iris-setosa"
      ]
     },
     "execution_count": 3,
     "metadata": {},
     "output_type": "execute_result"
    }
   ],
   "source": [
    "#import the dataset\n",
    "df = pd.read_csv('https://raw.githubusercontent.com/azhar2ds/DataSets/master/Iris.csv')\n",
    "df.head(10)"
   ]
  },
  {
   "cell_type": "code",
   "execution_count": 4,
   "metadata": {},
   "outputs": [],
   "source": [
    "x = df.iloc[:, [0,1,2,3]].values"
   ]
  },
  {
   "cell_type": "code",
   "execution_count": 5,
   "metadata": {},
   "outputs": [
    {
     "name": "stdout",
     "output_type": "stream",
     "text": [
      "[4 4 4 4 4 4 4 4 4 4 4 4 4 4 4 4 4 4 4 4 4 4 4 4 4 4 4 4 4 1 1 1 1 1 1 1 1\n",
      " 1 1 1 1 1 1 1 1 1 1 1 1 1 1 1 1 1 1 1 1 1 1 0 0 0 0 0 0 0 0 0 0 0 0 0 0 0\n",
      " 0 0 0 0 0 0 0 0 0 0 0 0 0 0 0 0 3 3 3 3 3 3 3 3 3 3 3 3 3 3 3 3 3 3 3 3 3\n",
      " 3 3 3 3 3 3 3 3 3 2 2 2 2 2 2 2 2 2 2 2 2 2 2 2 2 2 2 2 2 2 2 2 2 2 2 2 2\n",
      " 2 2]\n"
     ]
    },
    {
     "data": {
      "text/plain": [
       "array([[ 75.        ,   5.95483871,   2.7483871 ,   4.28709677],\n",
       "       [ 44.5       ,   5.33333333,   3.22      ,   2.34666667],\n",
       "       [135.5       ,   6.60666667,   3.01      ,   5.48333333],\n",
       "       [105.5       ,   6.25333333,   2.85666667,   5.11333333],\n",
       "       [ 15.        ,   5.03793103,   3.45862069,   1.46896552]])"
      ]
     },
     "execution_count": 5,
     "metadata": {},
     "output_type": "execute_result"
    }
   ],
   "source": [
    "kmeans5 = KMeans(n_clusters=5)\n",
    "y_kmeans5 = kmeans5.fit_predict(x)\n",
    "print(y_kmeans5)\n",
    "\n",
    "kmeans5.cluster_centers_"
   ]
  },
  {
   "cell_type": "code",
   "execution_count": 8,
   "metadata": {},
   "outputs": [
    {
     "data": {
      "text/plain": [
       "array([4, 4, 4, 4, 4, 4, 4, 4, 4, 4, 4, 4, 4, 4, 4, 4, 4, 4, 4, 4, 4, 4,\n",
       "       4, 4, 4, 4, 4, 4, 4, 4, 1, 1, 1, 1, 1, 1, 1, 1, 1, 1, 1, 1, 1, 1,\n",
       "       1, 1, 1, 1, 1, 1, 1, 1, 1, 1, 1, 1, 1, 1, 1, 1, 1, 2, 2, 2, 2, 2,\n",
       "       2, 2, 2, 2, 2, 2, 2, 2, 2, 2, 2, 2, 2, 2, 2, 2, 2, 2, 2, 2, 2, 2,\n",
       "       2, 2, 2, 2, 3, 3, 3, 3, 3, 3, 3, 3, 3, 3, 3, 3, 3, 3, 3, 3, 3, 3,\n",
       "       3, 3, 3, 3, 3, 3, 3, 3, 3, 3, 3, 3, 0, 0, 0, 0, 0, 0, 0, 0, 0, 0,\n",
       "       0, 0, 0, 0, 0, 0, 0, 0, 0, 0, 0, 0, 0, 0, 0, 0, 0, 0])"
      ]
     },
     "execution_count": 8,
     "metadata": {},
     "output_type": "execute_result"
    }
   ],
   "source": [
    "kmeans5=KMeans(n_clusters=5)\n",
    "y_kmeans5=kmeans5.fit_predict(x)\n",
    "y_kmeans5"
   ]
  },
  {
   "cell_type": "code",
   "execution_count": 9,
   "metadata": {},
   "outputs": [
    {
     "data": {
      "image/png": "[encoded data removed]",
      "text/plain": [
       "<Figure size 432x288 with 1 Axes>"
      ]
     },
     "metadata": {
      "needs_background": "light"
     },
     "output_type": "display_data"
    }
   ],
   "source": [
    "Error =[]\n",
    "for i in range(1, 11):\n",
    "    kmeans = KMeans(n_clusters = i).fit(x)\n",
    "    kmeans.fit(x)\n",
    "    Error.append(kmeans.inertia_)\n",
    "import matplotlib.pyplot as plt\n",
    "plt.plot(range(1, 11), Error)\n",
    "plt.title('Elbow method')\n",
    "plt.xlabel('No of clusters')\n",
    "plt.ylabel('Error')\n",
    "plt.show()"
   ]
  },
  {
   "cell_type": "code",
   "execution_count": 10,
   "metadata": {},
   "outputs": [
    {
     "data": {
      "text/plain": [
       "array([2, 2, 2, 2, 2, 2, 2, 2, 2, 2, 2, 2, 2, 2, 2, 2, 2, 2, 2, 2, 2, 2,\n",
       "       2, 2, 2, 2, 2, 2, 2, 2, 2, 2, 2, 2, 2, 2, 2, 2, 2, 2, 2, 2, 2, 2,\n",
       "       2, 2, 2, 2, 2, 1, 1, 1, 1, 1, 1, 1, 1, 1, 1, 1, 1, 1, 1, 1, 1, 1,\n",
       "       1, 1, 1, 1, 1, 1, 1, 1, 1, 1, 1, 1, 1, 1, 1, 1, 1, 1, 1, 1, 1, 1,\n",
       "       1, 1, 1, 1, 1, 1, 1, 1, 1, 1, 1, 0, 0, 0, 0, 0, 0, 0, 0, 0, 0, 0,\n",
       "       0, 0, 0, 0, 0, 0, 0, 0, 0, 0, 0, 0, 0, 0, 0, 0, 0, 0, 0, 0, 0, 0,\n",
       "       0, 0, 0, 0, 0, 0, 0, 0, 0, 0, 0, 0, 0, 0, 0, 0, 0, 0])"
      ]
     },
     "execution_count": 10,
     "metadata": {},
     "output_type": "execute_result"
    }
   ],
   "source": [
    "kmeans3=KMeans(n_clusters=3)\n",
    "y_kmeans3=kmeans3.fit_predict(x)\n",
    "y_kmeans3"
   ]
  },
  {
   "cell_type": "code",
   "execution_count": 11,
   "metadata": {},
   "outputs": [
    {
     "data": {
      "text/plain": [
       "array([[125.        ,   6.57058824,   2.97058824,   5.52352941],\n",
       "       [ 74.5       ,   5.922     ,   2.78      ,   4.206     ],\n",
       "       [ 25.        ,   5.00612245,   3.42040816,   1.46530612]])"
      ]
     },
     "execution_count": 11,
     "metadata": {},
     "output_type": "execute_result"
    }
   ],
   "source": [
    "kmeans3.cluster_centers_"
   ]
  },
  {
   "cell_type": "code",
   "execution_count": 12,
   "metadata": {},
   "outputs": [
    {
     "data": {
      "text/plain": [
       "<matplotlib.collections.PathCollection at 0x6bee3c8>"
      ]
     },
     "execution_count": 12,
     "metadata": {},
     "output_type": "execute_result"
    },
    {
     "data": {
      "image/png": "[encoded data removed]",
      "text/plain": [
       "<Figure size 432x288 with 1 Axes>"
      ]
     },
     "metadata": {
      "needs_background": "light"
     },
     "output_type": "display_data"
    }
   ],
   "source": [
    "plt.scatter(x[:,0],x[:,1],c=y_kmeans3,cmap='rainbow')"
   ]
  },
  {
   "cell_type": "code",
   "execution_count": 13,
   "metadata": {},
   "outputs": [
    {
     "name": "stdout",
     "output_type": "stream",
     "text": [
      " Volume in drive C has no label.\n",
      " Volume Serial Number is EA07-3B73\n",
      "\n",
      " Directory of C:\\Users\\Azhar\n",
      "\n",
      "03/27/2020  08:34 PM    <DIR>          .\n",
      "03/27/2020  08:34 PM    <DIR>          ..\n",
      "01/01/2020  02:16 PM    <DIR>          .anaconda\n",
      "08/31/2019  09:19 AM    <DIR>          .android\n",
      "01/14/2020  07:09 PM    <DIR>          .astropy\n",
      "02/22/2019  12:03 AM    <DIR>          .atom\n",
      "09/25/2019  12:08 AM               126 .defaults-0.1.0.ini\n",
      "11/16/2018  05:44 PM    <DIR>          .eclipse\n",
      "01/24/2018  01:54 AM    <DIR>          .idlerc\n",
      "03/27/2020  08:34 PM    <DIR>          .ipynb_checkpoints\n",
      "01/24/2018  01:57 AM                91 .irbrc\n",
      "07/19/2019  03:22 PM    <DIR>          .ivy2\n",
      "03/02/2018  10:05 PM    <DIR>          .jmc\n",
      "01/24/2019  05:46 PM    <DIR>          .liclipse\n",
      "11/15/2018  09:51 PM    <DIR>          .nbi\n",
      "02/22/2019  12:00 AM    <DIR>          .node-gyp\n",
      "03/22/2018  02:53 PM    <DIR>          .oracle_jre_usage\n",
      "09/02/2019  04:25 PM    <DIR>          .p2\n",
      "01/24/2018  01:42 AM                 0 .perlcriticrc\n",
      "01/02/2020  08:12 PM    <DIR>          .PyCharm2019.2\n",
      "03/14/2020  06:16 PM    <DIR>          .PyCharm2019.3\n",
      "06/26/2019  12:23 PM    <DIR>          .RapidMiner\n",
      "07/19/2019  03:23 PM    <DIR>          .sbt\n",
      "07/19/2019  12:29 PM    <DIR>          .scalaide\n",
      "04/23/2019  03:43 PM    <DIR>          .spss\n",
      "01/01/2020  02:15 PM    <DIR>          .spyder-py3\n",
      "01/24/2019  01:35 PM    <DIR>          .sqldeveloper\n",
      "11/15/2018  10:34 PM    <DIR>          .tooling\n",
      "01/07/2019  07:01 PM    <DIR>          .VirtualBox\n",
      "12/02/2019  03:13 PM    <DIR>          .vscode\n",
      "01/26/2020  03:56 PM    <DIR>          2015lab4-master\n",
      "01/03/2020  03:54 PM             1,480 a.txt\n",
      "01/06/2020  04:47 PM               459 abc.txt\n",
      "02/07/2020  03:51 PM    <DIR>          azh\n",
      "02/06/2020  05:58 PM             2,453 Azharopencv_notebook.ipynb\n",
      "02/04/2020  05:52 PM            46,400 banknote.txt\n",
      "02/04/2020  07:33 PM            58,050 banknotes.csv\n",
      "01/13/2020  12:54 PM             7,294 Basic Python.ipynb\n",
      "02/27/2020  04:46 PM           154,046 bcdata.csv\n",
      "02/15/2020  04:25 PM            26,737 Boston_house_Ranforest.ipynb\n",
      "02/27/2020  04:48 PM           140,124 Breast_cancer_cleandata.csv\n",
      "02/15/2020  11:45 AM            45,362 Breast_cancer_detectionRanForest.ipynb\n",
      "11/13/2007  12:31 PM            22,016 broiler.xls\n",
      "02/27/2020  04:05 PM             2,377 Confusion_matrix.ipynb\n",
      "01/02/2018  04:31 PM    <DIR>          Contacts\n",
      "02/06/2020  05:56 PM    <DIR>          data\n",
      "09/10/2019  01:28 PM    <DIR>          Data Zone Projects\n",
      "03/16/2020  04:56 PM    <DIR>          Desktop\n",
      "02/04/2020  04:49 PM                 0 diabetes.png\n",
      "10/28/2019  04:27 PM    <DIR>          Documents\n",
      "03/27/2020  07:28 PM    <DIR>          Downloads\n",
      "08/06/2019  09:54 AM    <DIR>          eclipse\n",
      "10/04/2019  09:04 PM               335 employee.csv\n",
      "01/02/2018  04:31 PM    <DIR>          Favorites\n",
      "06/26/2019  02:37 PM                25 File.dat\n",
      "06/23/2019  02:40 PM                 5 file.txt\n",
      "09/10/2019  01:53 PM                17 file_path.LST\n",
      "07/17/2019  08:08 PM    <DIR>          Focus Training python\n",
      "03/03/2019  06:23 AM            31,858 friends.jpg\n",
      "01/03/2020  03:31 PM             3,947 Generators.ipynb\n",
      "02/14/2020  08:39 PM            24,812 Handwritten Digit Classification.ipynb\n",
      "10/29/2019  12:21 AM               966 How to download youtube videos using Python.ipynb\n",
      "11/29/2018  04:47 PM    <DIR>          IdeaProjects\n",
      "02/05/2020  05:37 PM           186,458 image.png\n",
      "12/18/2019  12:17 PM    <DIR>          Installed lubuntu\n",
      "09/26/2019  03:04 PM             4,073 isinstance Function.ipynb\n",
      "03/09/2019  01:07 PM    <DIR>          Java Workspace\n",
      "01/26/2020  12:09 PM            28,130 java_error_in_pycharm_5820.log\n",
      "03/27/2020  08:20 PM             1,982 kmeans_clustering_tkinter.py\n",
      "03/27/2020  08:33 PM            24,140 kmeans_iris_clustering.ipynb\n",
      "02/21/2020  07:32 PM             9,140 Knn-iris-classifier.ipynb\n",
      "01/02/2018  04:31 PM    <DIR>          Links\n",
      "01/30/2020  09:57 PM           305,481 LinReg_withLosfuncInJupyterNB.ipynb\n",
      "03/10/2020  02:59 PM            70,000 Lin_reg_3methods_visuals.ipynb\n",
      "08/06/2019  11:05 AM             2,141 Login prompt.ipynb\n",
      "02/06/2020  02:15 PM             8,726 machine.data\n",
      "12/06/2019  12:33 AM             4,334 Mobile Carrier Finder.ipynb\n",
      "01/05/2018  10:14 AM    <DIR>          Music\n",
      "09/11/2019  10:59 AM               430 myfile2.csv\n",
      "09/21/2019  10:01 PM            18,467 numpy I.ipynb\n",
      "09/25/2019  12:23 AM            12,021 numpy session 2 .ipynb\n",
      "02/06/2020  07:56 PM    <DIR>          OpenCV\n",
      "05/22/2019  04:08 PM    <DIR>          Oracle\n",
      "10/15/2019  03:14 PM             4,186 Pandas Exercise Workbook.ipynb\n",
      "10/04/2019  09:04 PM            35,746 pandas+1 (1).ipynb\n",
      "10/02/2019  11:18 AM           101,752 pandas_3 Query like operations.ipynb\n",
      "01/02/2018  04:31 PM    <DIR>          Pictures\n",
      "10/28/2017  04:37 AM         8,726,035 Pink Panther Maplestory's 1-Minute Introduction-qiZkQlt5xlo.mp4\n",
      "03/14/2020  06:31 PM    <DIR>          PycharmProjects\n",
      "07/13/2019  12:18 PM                 0 python\n",
      "02/15/2020  12:53 PM            21,210 Ra.ipynb\n",
      "02/13/2020  12:45 PM            29,493 RandomForest_irisDS.ipynb\n",
      "02/15/2020  11:41 AM            45,672 random_iris_visualizattion2.ipynb\n",
      "09/21/2019  09:32 AM                17 README.md\n",
      "10/02/2019  12:47 PM             8,848 sales.csv.xlsx\n",
      "10/02/2019  12:49 PM               592 sales2.csv\n",
      "10/04/2019  09:43 PM               592 sales99.csv\n",
      "03/11/2018  03:30 PM    <DIR>          Saved Games\n",
      "08/31/2019  10:02 AM    <DIR>          Searches\n",
      "03/06/2020  10:33 PM            10,941 SimpleLinReg_Boston_stats_modelapi.py.ipynb\n",
      "03/10/2020  06:15 PM            31,138 Simple_linReg.ipynb\n",
      "03/27/2020  07:58 PM               139 sys_restart.py\n",
      "03/27/2020  08:02 PM               293 sys_restart_options.py\n",
      "03/27/2020  07:59 PM               141 sys_shutdown.py\n",
      "09/27/2019  12:04 AM            61,194 train.csv\n",
      "09/10/2019  01:23 PM    <DIR>          Untitled Folder 1\n",
      "10/05/2019  09:27 PM            24,152 Untitled.ipynb\n",
      "06/26/2019  04:52 PM             1,780 Untitled1.ipynb\n",
      "06/29/2019  02:56 PM             1,869 Untitled10.ipynb\n",
      "07/02/2019  01:04 PM             1,256 Untitled11.ipynb\n",
      "07/02/2019  05:01 PM             2,339 Untitled12.ipynb\n",
      "07/02/2019  06:53 PM             2,422 Untitled13.ipynb\n",
      "07/03/2019  12:48 PM             1,398 Untitled14.ipynb\n",
      "07/03/2019  04:21 PM             1,740 Untitled15.ipynb\n",
      "07/03/2019  06:55 PM               904 Untitled16.ipynb\n",
      "07/04/2019  01:08 PM             5,385 Untitled17.ipynb\n",
      "07/04/2019  03:26 PM             2,006 Untitled18.ipynb\n",
      "07/05/2019  12:41 PM             4,133 Untitled19.ipynb\n",
      "06/26/2019  06:25 PM             1,304 Untitled2.ipynb\n",
      "07/06/2019  12:42 PM             2,346 Untitled20.ipynb\n",
      "07/06/2019  04:39 PM             6,856 Untitled21.ipynb\n",
      "07/15/2019  12:31 AM            15,607 Untitled22.ipynb\n",
      "07/15/2019  04:46 PM             1,251 Untitled23.ipynb\n",
      "07/16/2019  03:26 PM             1,822 Untitled24.ipynb\n",
      "07/16/2019  04:28 PM             3,348 Untitled25.ipynb\n",
      "07/17/2019  03:05 PM             1,330 Untitled26.ipynb\n",
      "08/06/2019  09:53 AM                72 Untitled27.ipynb\n",
      "09/10/2019  12:59 PM                72 Untitled28.ipynb\n",
      "09/10/2019  01:00 PM                72 Untitled29.ipynb\n",
      "06/27/2019  12:20 PM             2,596 Untitled3.ipynb\n",
      "09/10/2019  01:01 PM                72 Untitled30.ipynb\n",
      "09/25/2019  12:22 AM                72 Untitled31.ipynb\n",
      "10/02/2019  01:30 PM            25,039 Untitled32.ipynb\n",
      "10/14/2019  04:03 PM               989 Untitled33.ipynb\n",
      "10/15/2019  11:54 PM           126,395 Untitled34.ipynb\n",
      "12/09/2019  11:56 AM             7,742 Untitled35.ipynb\n",
      "12/10/2019  03:27 PM             9,758 Untitled36.ipynb\n",
      "12/09/2019  11:57 AM               555 Untitled37.ipynb\n",
      "01/03/2020  03:31 PM             3,947 Untitled38.ipynb\n",
      "01/03/2020  04:04 PM               888 Untitled39.ipynb\n",
      "06/27/2019  02:51 PM             1,759 Untitled4.ipynb\n",
      "01/05/2020  02:03 PM               555 Untitled40.ipynb\n",
      "01/06/2020  02:36 PM             7,337 Untitled41.ipynb\n",
      "01/07/2020  04:20 PM           201,069 Untitled42.ipynb\n",
      "01/07/2020  08:29 PM               555 Untitled43.ipynb\n",
      "01/08/2020  05:28 PM             3,854 Untitled44.ipynb\n",
      "01/09/2020  02:11 PM             3,509 Untitled45.ipynb\n",
      "01/14/2020  06:59 PM             1,199 Untitled46.ipynb\n",
      "01/23/2020  02:23 PM            17,327 Untitled47.ipynb\n",
      "01/27/2020  02:08 PM             1,878 Untitled48.ipynb\n",
      "01/30/2020  03:30 PM           279,096 Untitled49.ipynb\n",
      "06/27/2019  03:09 PM               945 Untitled5.ipynb\n",
      "02/01/2020  12:59 PM            13,041 Untitled50.ipynb\n",
      "02/02/2020  03:05 PM               555 Untitled51.ipynb\n",
      "02/03/2020  02:01 PM               555 Untitled52.ipynb\n",
      "02/03/2020  09:48 PM             5,784 Untitled53.ipynb\n",
      "02/04/2020  09:00 PM            11,042 Untitled54.ipynb\n",
      "02/05/2020  05:34 PM             1,917 Untitled55.ipynb\n",
      "02/05/2020  07:43 PM               761 Untitled56.ipynb\n",
      "02/08/2020  02:04 PM             1,351 Untitled57.ipynb\n",
      "02/09/2020  05:54 PM             2,672 Untitled58.ipynb\n",
      "02/14/2020  08:42 PM            10,356 Untitled59.ipynb\n",
      "06/27/2019  04:58 PM             1,510 Untitled6.ipynb\n",
      "02/16/2020  04:05 PM           198,008 Untitled60.ipynb\n",
      "02/16/2020  04:17 PM             3,422 Untitled61.ipynb\n",
      "02/16/2020  05:12 PM             8,659 Untitled62.ipynb\n",
      "02/17/2020  01:25 PM             5,035 Untitled63.ipynb\n",
      "02/17/2020  03:08 PM             4,180 Untitled64.ipynb\n",
      "02/19/2020  04:30 PM               555 Untitled65.ipynb\n",
      "02/20/2020  09:45 AM               555 Untitled66.ipynb\n",
      "02/21/2020  09:55 PM            15,545 Untitled67.ipynb\n",
      "02/21/2020  10:59 PM            52,661 Untitled68.ipynb\n",
      "02/22/2020  11:54 AM             8,010 Untitled69.ipynb\n",
      "09/16/2019  03:15 PM               835 Untitled7.ipynb\n",
      "02/26/2020  05:51 PM             7,081 Untitled70.ipynb\n",
      "02/27/2020  05:46 PM            42,762 Untitled71.ipynb\n",
      "03/01/2020  02:48 PM             1,145 Untitled72.ipynb\n",
      "03/16/2020  04:53 PM             5,635 Untitled73.ipynb\n",
      "03/04/2020  07:35 PM            13,531 Untitled74.ipynb\n",
      "03/06/2020  02:37 PM             7,309 Untitled75.ipynb\n",
      "03/06/2020  02:23 PM               555 Untitled76.ipynb\n",
      "03/06/2020  02:23 PM               555 Untitled77.ipynb\n",
      "06/28/2019  04:00 PM             2,483 Untitled8.ipynb\n",
      "06/29/2019  01:02 PM                72 Untitled9.ipynb\n",
      "09/18/2019  03:15 PM    <DIR>          Videos\n",
      "01/07/2019  05:05 PM    <DIR>          VirtualBox VMs\n",
      "             134 File(s)     11,531,229 bytes\n",
      "              52 Dir(s)  19,060,207,616 bytes free\n"
     ]
    }
   ],
   "source": [
    "!dir"
   ]
  },
  {
   "cell_type": "code",
   "execution_count": null,
   "metadata": {},
   "outputs": [],
   "source": []
  }
 ],
 "metadata": {
  "kernelspec": {
   "display_name": "Python 3",
   "language": "python",
   "name": "python3"
  },
  "language_info": {
   "codemirror_mode": {
    "name": "ipython",
    "version": 3
   },
   "file_extension": ".py",
   "mimetype": "text/x-python",
   "name": "python",
   "nbconvert_exporter": "python",
   "pygments_lexer": "ipython3",
   "version": "3.7.4"
  }
 },
 "nbformat": 4,
 "nbformat_minor": 2
}
